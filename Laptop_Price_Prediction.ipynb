{
  "nbformat": 4,
  "nbformat_minor": 0,
  "metadata": {
    "colab": {
      "provenance": []
    },
    "kernelspec": {
      "name": "python3",
      "display_name": "Python 3"
    },
    "language_info": {
      "name": "python"
    }
  },
  "cells": [
    {
      "cell_type": "code",
      "execution_count": 3,
      "metadata": {
        "id": "eLEw-vLXoGFd"
      },
      "outputs": [],
      "source": [
        "url = \"https://cf-courses-data.s3.us.cloud-object-storage.appdomain.cloud/IBMDeveloperSkillsNetwork-DA0101EN-Coursera/laptop_pricing_dataset_mod2.csv\""
      ]
    },
    {
      "cell_type": "markdown",
      "source": [
        "\n",
        "\n",
        "```\n",
        "Write a Python code that can perform the following tasks.\n",
        "Read the CSV file, located on a given file path, into a pandas data frame, assuming that the first row of the file can be used as the headers for the data.\n",
        "```\n",
        "\n"
      ],
      "metadata": {
        "id": "x8m8kWUmokLG"
      }
    },
    {
      "cell_type": "code",
      "source": [
        "import pandas as pd\n",
        "\n",
        "file_path = \"path/to/your/csv/file.csv\"\n",
        "\n",
        "data_frame = pd.read_csv(url)\n",
        "\n",
        "data_frame = pd.read_csv(url, header=0)"
      ],
      "metadata": {
        "id": "wEc1fIqpoI-Q"
      },
      "execution_count": 19,
      "outputs": []
    },
    {
      "cell_type": "markdown",
      "source": [
        "```\n",
        "Write a Python code that performs the following tasks.\n",
        "1. Develops and trains a linear regression model that uses one attribute of a data frame as the source variable and another as a target variable.\n",
        "2. Calculate and display the MSE and R^2 values for the trained model\n",
        "```"
      ],
      "metadata": {
        "id": "SWiEkSwjorTU"
      }
    },
    {
      "cell_type": "code",
      "source": [
        "import pandas as pd\n",
        "from sklearn.linear_model import LinearRegression\n",
        "from sklearn.metrics import mean_squared_error, r2_score\n",
        "\n",
        "print(data_frame.columns)\n",
        "X = data_frame[['RAM_GB']]\n",
        "y = data_frame['Price']\n",
        "\n",
        "model = LinearRegression()\n",
        "\n",
        "model.fit(X, y)\n",
        "\n",
        "y_pred = model.predict(X)\n",
        "\n",
        "mse = mean_squared_error(y, y_pred)\n",
        "\n",
        "r2 = r2_score(y, y_pred)\n",
        "\n",
        "print(\"Mean Squared Error (MSE):\", mse)\n",
        "print(\"Coefficient of Determination (R^2):\", r2)\n"
      ],
      "metadata": {
        "colab": {
          "base_uri": "https://localhost:8080/"
        },
        "id": "JCQJj8vxpEDh",
        "outputId": "75c7f49e-5fbc-42cf-a2ab-b837cec839f8"
      },
      "execution_count": 20,
      "outputs": [
        {
          "output_type": "stream",
          "name": "stdout",
          "text": [
            "Index(['Unnamed: 0.1', 'Unnamed: 0', 'Manufacturer', 'Category', 'GPU', 'OS',\n",
            "       'CPU_core', 'Screen_Size_inch', 'CPU_frequency', 'RAM_GB',\n",
            "       'Storage_GB_SSD', 'Weight_pounds', 'Price', 'Price-binned',\n",
            "       'Screen-Full_HD', 'Screen-IPS_panel'],\n",
            "      dtype='object')\n",
            "Mean Squared Error (MSE): 229582.71927482335\n",
            "Coefficient of Determination (R^2): 0.3017275206956078\n"
          ]
        }
      ]
    },
    {
      "cell_type": "markdown",
      "source": [
        "```\n",
        "Write a Python code that performs the following tasks.\n",
        "1. Develops and trains a linear regression model that uses some attributes of a data frame as the source variables and one of the attributes as a target variable.\n",
        "2. Calculate and display the MSE and R^2 values for the trained model.\n",
        "```"
      ],
      "metadata": {
        "id": "I7H3TXEYqoDO"
      }
    },
    {
      "cell_type": "code",
      "source": [
        "import pandas as pd\n",
        "from sklearn.linear_model import LinearRegression\n",
        "from sklearn.metrics import mean_squared_error, r2_score\n",
        "\n",
        "X = data_frame[['RAM_GB', 'CPU_frequency', 'Storage_GB_SSD', 'CPU_core', 'OS', 'GPU', 'Category']]\n",
        "y = data_frame['Price']\n",
        "\n",
        "model = LinearRegression()\n",
        "\n",
        "model.fit(X, y)\n",
        "\n",
        "y_pred = model.predict(X)\n",
        "\n",
        "mse = mean_squared_error(y, y_pred)\n",
        "\n",
        "r2 = r2_score(y, y_pred)\n",
        "\n",
        "print(\"Mean Squared Error (MSE):\", mse)\n",
        "print(\"Coefficient of Determination (R^2):\", r2)\n"
      ],
      "metadata": {
        "colab": {
          "base_uri": "https://localhost:8080/"
        },
        "id": "6mTnvSb3q9vY",
        "outputId": "fb8f6c9d-0525-429a-dc16-de22f8571353"
      },
      "execution_count": 12,
      "outputs": [
        {
          "output_type": "stream",
          "name": "stdout",
          "text": [
            "Mean Squared Error (MSE): 161680.57263893107\n",
            "Coefficient of Determination (R^2): 0.5082509055187374\n"
          ]
        }
      ]
    },
    {
      "cell_type": "markdown",
      "source": [
        "```\n",
        "Write a Python code that performs the following tasks.\n",
        "1. Develops and trains multiple polynomial regression models, with orders 2, 3, and 5, that use one attribute of a data frame as the source variable and another as a target variable.\n",
        "2. Calculate and display the MSE and R^2 values for the trained models.\n",
        "3. Compare the performance of the models.\n",
        "```"
      ],
      "metadata": {
        "id": "VhocaIePrkWm"
      }
    },
    {
      "cell_type": "code",
      "source": [
        "import pandas as pd\n",
        "import numpy as np\n",
        "from sklearn.linear_model import LinearRegression\n",
        "from sklearn.preprocessing import PolynomialFeatures\n",
        "from sklearn.metrics import mean_squared_error, r2_score\n",
        "\n",
        "X = data_frame[['CPU_frequency']]\n",
        "y = data_frame['Price']\n",
        "\n",
        "mse_values = []\n",
        "r2_values = []\n",
        "\n",
        "for order in [2, 3, 5]:\n",
        "\n",
        "    polynomial_features = PolynomialFeatures(degree=order)\n",
        "    X_poly = polynomial_features.fit_transform(X)\n",
        "\n",
        "\n",
        "    model = LinearRegression()\n",
        "\n",
        "\n",
        "    model.fit(X_poly, y)\n",
        "\n",
        "\n",
        "    y_pred = model.predict(X_poly)\n",
        "\n",
        "\n",
        "    mse = mean_squared_error(y, y_pred)\n",
        "\n",
        "\n",
        "    r2 = r2_score(y, y_pred)\n",
        "\n",
        "\n",
        "    mse_values.append(mse)\n",
        "    r2_values.append(r2)\n",
        "\n",
        "\n",
        "    print(f\"Polynomial Order {order}:\")\n",
        "    print(\"Mean Squared Error (MSE):\", mse)\n",
        "    print(\"Coefficient of Determination (R^2):\", r2)\n",
        "    print()\n",
        "\n",
        "\n",
        "best_order = np.argmin(mse_values)\n",
        "worst_order = np.argmax(r2_values)\n",
        "\n",
        "print(\"Model Comparison:\")\n",
        "print(f\"Best Polynomial Order: {best_order + 2}\")\n",
        "print(f\"Worst Polynomial Order: {worst_order + 2}\")\n",
        "\n"
      ],
      "metadata": {
        "colab": {
          "base_uri": "https://localhost:8080/"
        },
        "id": "VY4IrMq-rm2G",
        "outputId": "c986c955-19cf-4f97-a50c-303746a7ad3d"
      },
      "execution_count": 13,
      "outputs": [
        {
          "output_type": "stream",
          "name": "stdout",
          "text": [
            "Polynomial Order 2:\n",
            "Mean Squared Error (MSE): 249022.66596751162\n",
            "Coefficient of Determination (R^2): 0.24260120745423808\n",
            "\n",
            "Polynomial Order 3:\n",
            "Mean Squared Error (MSE): 241024.86303848773\n",
            "Coefficient of Determination (R^2): 0.266926407965311\n",
            "\n",
            "Polynomial Order 5:\n",
            "Mean Squared Error (MSE): 229137.29548056272\n",
            "Coefficient of Determination (R^2): 0.30308227064430593\n",
            "\n",
            "Model Comparison:\n",
            "Best Polynomial Order: 4\n",
            "Worst Polynomial Order: 4\n"
          ]
        }
      ]
    },
    {
      "cell_type": "markdown",
      "source": [
        "```\n",
        "Write a Python code that performs the following tasks.\n",
        "1. Create a pipeline that performs parameter scaling, Polynomial Feature generation, and Linear regression. Use the set of multiple features as before to create this pipeline.\n",
        "2. Calculate and display the MSE and R^2 values for the trained model.\n",
        "```"
      ],
      "metadata": {
        "id": "yi0aoYpnr1tj"
      }
    },
    {
      "cell_type": "code",
      "source": [
        "import pandas as pd\n",
        "import numpy as np\n",
        "from sklearn.pipeline import make_pipeline\n",
        "from sklearn.preprocessing import StandardScaler, PolynomialFeatures\n",
        "from sklearn.linear_model import LinearRegression\n",
        "from sklearn.metrics import mean_squared_error, r2_score\n",
        "\n",
        "\n",
        "X = data_frame[['CPU_frequency', 'RAM_GB', 'Storage_GB_SSD', 'CPU_core', 'OS', 'GPU', 'Category']]\n",
        "y = data_frame['Price']\n",
        "\n",
        "\n",
        "pipeline = make_pipeline(\n",
        "    StandardScaler(),\n",
        "    PolynomialFeatures(degree=2),\n",
        "    LinearRegression()\n",
        ")\n",
        "\n",
        "\n",
        "pipeline.fit(X, y)\n",
        "\n",
        "\n",
        "y_pred = pipeline.predict(X)\n",
        "\n",
        "\n",
        "mse = mean_squared_error(y, y_pred)\n",
        "\n",
        "\n",
        "r2 = r2_score(y, y_pred)\n",
        "\n",
        "\n",
        "print(\"Mean Squared Error (MSE):\", mse)\n",
        "print(\"Coefficient of Determination (R^2):\", r2)\n"
      ],
      "metadata": {
        "colab": {
          "base_uri": "https://localhost:8080/"
        },
        "id": "RT7R15kar4HW",
        "outputId": "d0e4e7b6-9ce6-4401-8edd-f0dc1fe5b760"
      },
      "execution_count": 18,
      "outputs": [
        {
          "output_type": "stream",
          "name": "stdout",
          "text": [
            "Mean Squared Error (MSE): 120595.86128028372\n",
            "Coefficient of Determination (R^2): 0.6332094535859658\n"
          ]
        }
      ]
    },
    {
      "cell_type": "markdown",
      "source": [
        "```\n",
        "Write a Python code that performs the following tasks.\n",
        "1. Use polynomial features for some of the attributes of a data frame.\n",
        "2. Perform Grid search on a ridge regression model for a set of values of hyperparameter alpha and polynomial features as input.\n",
        "3. Use cross-validation in the Grid search.\n",
        "4. Evaluate the resulting model's MSE and R^2 values.\n",
        "```"
      ],
      "metadata": {
        "id": "TMA_m9YQub7F"
      }
    },
    {
      "cell_type": "code",
      "source": [
        "!pip install pandas scikit-learn\n",
        "\n",
        "import pandas as pd\n",
        "import numpy as np\n",
        "from sklearn.model_selection import GridSearchCV, cross_val_score\n",
        "from sklearn.preprocessing import PolynomialFeatures, OneHotEncoder, StandardScaler\n",
        "from sklearn.linear_model import Ridge\n",
        "from sklearn.metrics import mean_squared_error, r2_score\n",
        "from sklearn.compose import ColumnTransformer\n",
        "from sklearn.pipeline import Pipeline\n",
        "\n",
        "\n",
        "url = \"https://cf-courses-data.s3.us.cloud-object-storage.appdomain.cloud/IBMDeveloperSkillsNetwork-DA0101EN-Coursera/laptop_pricing_dataset_mod2.csv\"\n",
        "data_frame = pd.read_csv(url)\n",
        "\n",
        "\n",
        "X = data_frame[['CPU_frequency', 'RAM_GB', 'Storage_GB_SSD', 'CPU_core', 'OS', 'GPU', 'Category']]\n",
        "y = data_frame['Price']\n",
        "\n",
        "\n",
        "categorical_features = ['OS', 'GPU', 'Category']\n",
        "numerical_features = ['CPU_frequency', 'RAM_GB', 'Storage_GB_SSD', 'CPU_core']\n",
        "\n",
        "\n",
        "preprocessor = ColumnTransformer(\n",
        "    transformers=[\n",
        "        ('num', StandardScaler(), numerical_features),\n",
        "        ('cat', OneHotEncoder(sparse_output=False, handle_unknown='ignore'), categorical_features)\n",
        "    ])\n",
        "\n",
        "\n",
        "pipeline = Pipeline([\n",
        "    ('preprocessor', preprocessor),\n",
        "    ('poly', PolynomialFeatures(degree=2)),\n",
        "    ('ridge', Ridge())\n",
        "])\n",
        "\n",
        "\n",
        "param_grid = {'ridge__alpha': [0.0001, 0.001, 0.01, 0.1, 1, 10]}\n",
        "\n",
        "\n",
        "grid_search = GridSearchCV(pipeline, param_grid, cv=4, scoring='neg_mean_squared_error')\n",
        "grid_search.fit(X, y)\n",
        "\n",
        "\n",
        "best_model = grid_search.best_estimator_\n",
        "y_pred = best_model.predict(X)\n",
        "mse = mean_squared_error(y, y_pred)\n",
        "r2 = r2_score(y, y_pred)\n",
        "\n",
        "print(\"Best Hyperparameters:\", grid_search.best_params_)\n",
        "print(\"Mean Squared Error (MSE):\", mse)\n",
        "print(\"Coefficient of Determination (R^2):\", r2)"
      ],
      "metadata": {
        "colab": {
          "base_uri": "https://localhost:8080/"
        },
        "id": "iig2pZXgvzNM",
        "outputId": "b25bec16-e1e1-4fe4-fd2e-a46dbc3a72ec"
      },
      "execution_count": 17,
      "outputs": [
        {
          "output_type": "stream",
          "name": "stdout",
          "text": [
            "Requirement already satisfied: pandas in /usr/local/lib/python3.10/dist-packages (2.2.2)\n",
            "Requirement already satisfied: scikit-learn in /usr/local/lib/python3.10/dist-packages (1.6.0)\n",
            "Requirement already satisfied: numpy>=1.22.4 in /usr/local/lib/python3.10/dist-packages (from pandas) (1.26.4)\n",
            "Requirement already satisfied: python-dateutil>=2.8.2 in /usr/local/lib/python3.10/dist-packages (from pandas) (2.8.2)\n",
            "Requirement already satisfied: pytz>=2020.1 in /usr/local/lib/python3.10/dist-packages (from pandas) (2024.2)\n",
            "Requirement already satisfied: tzdata>=2022.7 in /usr/local/lib/python3.10/dist-packages (from pandas) (2024.2)\n",
            "Requirement already satisfied: scipy>=1.6.0 in /usr/local/lib/python3.10/dist-packages (from scikit-learn) (1.13.1)\n",
            "Requirement already satisfied: joblib>=1.2.0 in /usr/local/lib/python3.10/dist-packages (from scikit-learn) (1.4.2)\n",
            "Requirement already satisfied: threadpoolctl>=3.1.0 in /usr/local/lib/python3.10/dist-packages (from scikit-learn) (3.5.0)\n",
            "Requirement already satisfied: six>=1.5 in /usr/local/lib/python3.10/dist-packages (from python-dateutil>=2.8.2->pandas) (1.17.0)\n",
            "Best Hyperparameters: {'ridge__alpha': 10}\n",
            "Mean Squared Error (MSE): 116165.1531302008\n",
            "Coefficient of Determination (R^2): 0.6466853875534919\n"
          ]
        }
      ]
    }
  ]
}
